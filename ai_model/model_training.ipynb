{
 "cells": [
  {
   "cell_type": "code",
   "execution_count": 2,
   "metadata": {},
   "outputs": [
    {
     "name": "stdout",
     "output_type": "stream",
     "text": [
      "Requirement already satisfied: tensorflow in /Users/arjunthillairajah/anaconda3/lib/python3.11/site-packages (2.18.0)\n",
      "Requirement already satisfied: pandas in /Users/arjunthillairajah/anaconda3/lib/python3.11/site-packages (2.2.0)\n",
      "Requirement already satisfied: numpy in /Users/arjunthillairajah/anaconda3/lib/python3.11/site-packages (1.26.4)\n",
      "Requirement already satisfied: absl-py>=1.0.0 in /Users/arjunthillairajah/anaconda3/lib/python3.11/site-packages (from tensorflow) (2.1.0)\n",
      "Requirement already satisfied: astunparse>=1.6.0 in /Users/arjunthillairajah/anaconda3/lib/python3.11/site-packages (from tensorflow) (1.6.3)\n",
      "Requirement already satisfied: flatbuffers>=24.3.25 in /Users/arjunthillairajah/anaconda3/lib/python3.11/site-packages (from tensorflow) (25.2.10)\n",
      "Requirement already satisfied: gast!=0.5.0,!=0.5.1,!=0.5.2,>=0.2.1 in /Users/arjunthillairajah/anaconda3/lib/python3.11/site-packages (from tensorflow) (0.6.0)\n",
      "Requirement already satisfied: google-pasta>=0.1.1 in /Users/arjunthillairajah/anaconda3/lib/python3.11/site-packages (from tensorflow) (0.2.0)\n",
      "Requirement already satisfied: libclang>=13.0.0 in /Users/arjunthillairajah/anaconda3/lib/python3.11/site-packages (from tensorflow) (18.1.1)\n",
      "Requirement already satisfied: opt-einsum>=2.3.2 in /Users/arjunthillairajah/anaconda3/lib/python3.11/site-packages (from tensorflow) (3.4.0)\n",
      "Requirement already satisfied: packaging in /Users/arjunthillairajah/anaconda3/lib/python3.11/site-packages (from tensorflow) (23.2)\n",
      "Requirement already satisfied: protobuf!=4.21.0,!=4.21.1,!=4.21.2,!=4.21.3,!=4.21.4,!=4.21.5,<6.0.0dev,>=3.20.3 in /Users/arjunthillairajah/anaconda3/lib/python3.11/site-packages (from tensorflow) (5.29.3)\n",
      "Requirement already satisfied: requests<3,>=2.21.0 in /Users/arjunthillairajah/anaconda3/lib/python3.11/site-packages (from tensorflow) (2.31.0)\n",
      "Requirement already satisfied: setuptools in /Users/arjunthillairajah/anaconda3/lib/python3.11/site-packages (from tensorflow) (68.0.0)\n",
      "Requirement already satisfied: six>=1.12.0 in /Users/arjunthillairajah/anaconda3/lib/python3.11/site-packages (from tensorflow) (1.16.0)\n",
      "Requirement already satisfied: termcolor>=1.1.0 in /Users/arjunthillairajah/anaconda3/lib/python3.11/site-packages (from tensorflow) (2.5.0)\n",
      "Requirement already satisfied: typing-extensions>=3.6.6 in /Users/arjunthillairajah/anaconda3/lib/python3.11/site-packages (from tensorflow) (4.12.2)\n",
      "Requirement already satisfied: wrapt>=1.11.0 in /Users/arjunthillairajah/anaconda3/lib/python3.11/site-packages (from tensorflow) (1.14.1)\n",
      "Requirement already satisfied: grpcio<2.0,>=1.24.3 in /Users/arjunthillairajah/anaconda3/lib/python3.11/site-packages (from tensorflow) (1.70.0)\n",
      "Requirement already satisfied: tensorboard<2.19,>=2.18 in /Users/arjunthillairajah/anaconda3/lib/python3.11/site-packages (from tensorflow) (2.18.0)\n",
      "Requirement already satisfied: keras>=3.5.0 in /Users/arjunthillairajah/anaconda3/lib/python3.11/site-packages (from tensorflow) (3.8.0)\n",
      "Requirement already satisfied: h5py>=3.11.0 in /Users/arjunthillairajah/anaconda3/lib/python3.11/site-packages (from tensorflow) (3.13.0)\n",
      "Requirement already satisfied: ml-dtypes<0.5.0,>=0.4.0 in /Users/arjunthillairajah/anaconda3/lib/python3.11/site-packages (from tensorflow) (0.4.1)\n",
      "Requirement already satisfied: tensorflow-io-gcs-filesystem>=0.23.1 in /Users/arjunthillairajah/anaconda3/lib/python3.11/site-packages (from tensorflow) (0.37.1)\n",
      "Requirement already satisfied: python-dateutil>=2.8.2 in /Users/arjunthillairajah/anaconda3/lib/python3.11/site-packages (from pandas) (2.8.2)\n",
      "Requirement already satisfied: pytz>=2020.1 in /Users/arjunthillairajah/anaconda3/lib/python3.11/site-packages (from pandas) (2024.1)\n",
      "Requirement already satisfied: tzdata>=2022.7 in /Users/arjunthillairajah/anaconda3/lib/python3.11/site-packages (from pandas) (2024.1)\n",
      "Requirement already satisfied: wheel<1.0,>=0.23.0 in /Users/arjunthillairajah/anaconda3/lib/python3.11/site-packages (from astunparse>=1.6.0->tensorflow) (0.38.4)\n",
      "Requirement already satisfied: rich in /Users/arjunthillairajah/anaconda3/lib/python3.11/site-packages (from keras>=3.5.0->tensorflow) (13.3.5)\n",
      "Requirement already satisfied: namex in /Users/arjunthillairajah/anaconda3/lib/python3.11/site-packages (from keras>=3.5.0->tensorflow) (0.0.8)\n",
      "Requirement already satisfied: optree in /Users/arjunthillairajah/anaconda3/lib/python3.11/site-packages (from keras>=3.5.0->tensorflow) (0.14.1)\n",
      "Requirement already satisfied: charset-normalizer<4,>=2 in /Users/arjunthillairajah/anaconda3/lib/python3.11/site-packages (from requests<3,>=2.21.0->tensorflow) (2.0.4)\n",
      "Requirement already satisfied: idna<4,>=2.5 in /Users/arjunthillairajah/anaconda3/lib/python3.11/site-packages (from requests<3,>=2.21.0->tensorflow) (3.4)\n",
      "Requirement already satisfied: urllib3<3,>=1.21.1 in /Users/arjunthillairajah/anaconda3/lib/python3.11/site-packages (from requests<3,>=2.21.0->tensorflow) (1.26.18)\n",
      "Requirement already satisfied: certifi>=2017.4.17 in /Users/arjunthillairajah/anaconda3/lib/python3.11/site-packages (from requests<3,>=2.21.0->tensorflow) (2025.1.31)\n",
      "Requirement already satisfied: markdown>=2.6.8 in /Users/arjunthillairajah/anaconda3/lib/python3.11/site-packages (from tensorboard<2.19,>=2.18->tensorflow) (3.4.1)\n",
      "Requirement already satisfied: tensorboard-data-server<0.8.0,>=0.7.0 in /Users/arjunthillairajah/anaconda3/lib/python3.11/site-packages (from tensorboard<2.19,>=2.18->tensorflow) (0.7.2)\n",
      "Requirement already satisfied: werkzeug>=1.0.1 in /Users/arjunthillairajah/anaconda3/lib/python3.11/site-packages (from tensorboard<2.19,>=2.18->tensorflow) (2.2.3)\n",
      "Requirement already satisfied: MarkupSafe>=2.1.1 in /Users/arjunthillairajah/anaconda3/lib/python3.11/site-packages (from werkzeug>=1.0.1->tensorboard<2.19,>=2.18->tensorflow) (2.1.3)\n",
      "Requirement already satisfied: markdown-it-py<3.0.0,>=2.2.0 in /Users/arjunthillairajah/anaconda3/lib/python3.11/site-packages (from rich->keras>=3.5.0->tensorflow) (2.2.0)\n",
      "Requirement already satisfied: pygments<3.0.0,>=2.13.0 in /Users/arjunthillairajah/anaconda3/lib/python3.11/site-packages (from rich->keras>=3.5.0->tensorflow) (2.15.1)\n",
      "Requirement already satisfied: mdurl~=0.1 in /Users/arjunthillairajah/anaconda3/lib/python3.11/site-packages (from markdown-it-py<3.0.0,>=2.2.0->rich->keras>=3.5.0->tensorflow) (0.1.0)\n",
      "Note: you may need to restart the kernel to use updated packages.\n",
      "Requirement already satisfied: opencv-python in /Users/arjunthillairajah/anaconda3/lib/python3.11/site-packages (4.11.0.86)\n",
      "Requirement already satisfied: numpy>=1.21.2 in /Users/arjunthillairajah/anaconda3/lib/python3.11/site-packages (from opencv-python) (1.26.4)\n",
      "Note: you may need to restart the kernel to use updated packages.\n"
     ]
    }
   ],
   "source": [
    "%pip install tensorflow pandas numpy\n",
    "%pip install opencv-python\n"
   ]
  },
  {
   "cell_type": "code",
   "execution_count": 3,
   "metadata": {},
   "outputs": [
    {
     "name": "stdout",
     "output_type": "stream",
     "text": [
      "      lesion_id      image_id   dx dx_type   age     sex localization  \\\n",
      "2   HAM_0002730  ISIC_0026769  bkl   histo  80.0    male        scalp   \n",
      "3   HAM_0002730  ISIC_0025661  bkl   histo  80.0    male        scalp   \n",
      "4   HAM_0001466  ISIC_0031633  bkl   histo  75.0    male          ear   \n",
      "11  HAM_0004234  ISIC_0029396  bkl   histo  85.0  female        chest   \n",
      "14  HAM_0001949  ISIC_0032417  bkl   histo  70.0    male        trunk   \n",
      "\n",
      "                                       full_path  \n",
      "2   ../data/HAM10000_images_all/ISIC_0026769.jpg  \n",
      "3   ../data/HAM10000_images_all/ISIC_0025661.jpg  \n",
      "4   ../data/HAM10000_images_all/ISIC_0031633.jpg  \n",
      "11  ../data/HAM10000_images_all/ISIC_0029396.jpg  \n",
      "14  ../data/HAM10000_images_all/ISIC_0032417.jpg  \n"
     ]
    }
   ],
   "source": [
    "import pandas as pd\n",
    "import os\n",
    "\n",
    "IMG_DIR = \"../data/HAM10000_images_all\"  \n",
    "CSV_PATH = \"../data/HAM10000_metadata.csv\"  \n",
    "\n",
    "df = pd.read_csv(CSV_PATH)\n",
    "\n",
    "df[\"full_path\"] = df[\"image_id\"].apply(lambda x: os.path.join(IMG_DIR, x + \".jpg\"))\n",
    "\n",
    "df = df[df[\"full_path\"].apply(os.path.exists)]\n",
    "\n",
    "df.to_csv(\"../data/processed_metadata.csv\", index=False)\n",
    "\n",
    "print(df.head())\n",
    "\n"
   ]
  },
  {
   "cell_type": "code",
   "execution_count": 4,
   "metadata": {},
   "outputs": [
    {
     "name": "stdout",
     "output_type": "stream",
     "text": [
      "Found 4822 validated image filenames belonging to 7 classes.\n",
      "Found 1205 validated image filenames belonging to 7 classes.\n"
     ]
    }
   ],
   "source": [
    "from tensorflow.keras.preprocessing.image import ImageDataGenerator\n",
    "data_gen = ImageDataGenerator(rescale=1./255, validation_split=0.2)\n",
    "\n",
    "train_data = data_gen.flow_from_dataframe(\n",
    "    dataframe=df,\n",
    "    directory=None, \n",
    "    x_col=\"full_path\", \n",
    "    y_col=\"dx\",\n",
    "    target_size=(224, 224),\n",
    "    batch_size=16,\n",
    "    subset=\"training\",\n",
    "    class_mode=\"categorical\"\n",
    ")\n",
    "\n",
    "\n",
    "val_data = data_gen.flow_from_dataframe(\n",
    "    dataframe=df,\n",
    "    directory=None, \n",
    "    x_col=\"full_path\",\n",
    "    y_col=\"dx\",\n",
    "    target_size=(224, 224),\n",
    "    batch_size=16,\n",
    "    subset=\"validation\",\n",
    "    class_mode=\"categorical\"\n",
    ")\n",
    "\n"
   ]
  },
  {
   "cell_type": "code",
   "execution_count": null,
   "metadata": {},
   "outputs": [
    {
     "name": "stdout",
     "output_type": "stream",
     "text": [
      "Found 4821 validated image filenames belonging to 7 classes.\n",
      "Found 1206 validated image filenames belonging to 7 classes.\n"
     ]
    }
   ],
   "source": [
    "from sklearn.model_selection import train_test_split\n",
    "from tensorflow.keras.preprocessing.image import ImageDataGenerator\n",
    "\n",
    "train_df, val_df = train_test_split(df, test_size=0.2, stratify=df[\"dx\"], random_state=42)\n",
    "\n",
    "data_gen = ImageDataGenerator(rescale=1./255)\n",
    "\n",
    "train_data = data_gen.flow_from_dataframe(\n",
    "    dataframe=train_df,\n",
    "    directory=None,\n",
    "    x_col=\"full_path\",\n",
    "    y_col=\"dx\",\n",
    "    target_size=(224, 224),\n",
    "    batch_size=16,\n",
    "    shuffle=True,\n",
    "    class_mode=\"categorical\"\n",
    ")\n",
    "\n",
    "val_data = data_gen.flow_from_dataframe(\n",
    "    dataframe=val_df,\n",
    "    directory=None,\n",
    "    x_col=\"full_path\",\n",
    "    y_col=\"dx\",\n",
    "    target_size=(224, 224),\n",
    "    batch_size=16,\n",
    "    shuffle=False,\n",
    "    class_mode=\"categorical\"\n",
    ")\n"
   ]
  },
  {
   "cell_type": "code",
   "execution_count": null,
   "metadata": {},
   "outputs": [
    {
     "name": "stdout",
     "output_type": "stream",
     "text": [
      "Class weights: {0: 5.139658848614072, 1: 2.881649731022116, 2: 1.3399110617009449, 3: 12.298469387755102, 4: 1.1346199105671924, 5: 0.21515597804257597, 6: 9.838775510204082}\n"
     ]
    }
   ],
   "source": [
    "from sklearn.utils.class_weight import compute_class_weight\n",
    "import numpy as np\n",
    "\n",
    "classes = np.unique(train_df[\"dx\"])\n",
    "\n",
    "class_weights = compute_class_weight(\n",
    "    class_weight=\"balanced\",\n",
    "    classes=classes,\n",
    "    y=train_df[\"dx\"]\n",
    ")\n",
    "\n",
    "class_indices = train_data.class_indices\n",
    "index_to_class = {v: k for k, v in class_indices.items()}\n",
    "class_weights_dict = {i: class_weights[np.where(classes == index_to_class[i])[0][0]] for i in range(len(class_weights))}\n",
    "\n",
    "print(\"Class weights:\", class_weights_dict)\n"
   ]
  },
  {
   "cell_type": "code",
   "execution_count": 10,
   "metadata": {},
   "outputs": [],
   "source": [
    "from tensorflow.keras.applications import EfficientNetB3\n",
    "from tensorflow.keras.models import Model\n",
    "from tensorflow.keras.layers import Dense, GlobalAveragePooling2D, Dropout\n",
    "\n",
    "base_model = EfficientNetB3(weights=\"imagenet\", include_top=False, input_shape=(224, 224, 3))\n",
    "\n",
    "x = GlobalAveragePooling2D()(base_model.output)\n",
    "x = Dropout(0.5)(x)\n",
    "x = Dense(len(train_data.class_indices), activation=\"softmax\")(x)\n",
    "\n",
    "model = Model(inputs=base_model.input, outputs=x)\n",
    "\n",
    "model.compile(optimizer=\"adam\", loss=\"categorical_crossentropy\", metrics=[\"accuracy\"])\n"
   ]
  },
  {
   "cell_type": "code",
   "execution_count": null,
   "metadata": {},
   "outputs": [],
   "source": [
    "model.fit(\n",
    "    train_data,\n",
    "    validation_data=val_data,\n",
    "    epochs=8,\n",
    "    class_weight=class_weights_dict\n",
    ")\n",
    "model.save(\"skin_model.h5\")\n"
   ]
  }
 ],
 "metadata": {
  "kernelspec": {
   "display_name": "base",
   "language": "python",
   "name": "python3"
  },
  "language_info": {
   "codemirror_mode": {
    "name": "ipython",
    "version": 3
   },
   "file_extension": ".py",
   "mimetype": "text/x-python",
   "name": "python",
   "nbconvert_exporter": "python",
   "pygments_lexer": "ipython3",
   "version": "3.11.5"
  }
 },
 "nbformat": 4,
 "nbformat_minor": 2
}
