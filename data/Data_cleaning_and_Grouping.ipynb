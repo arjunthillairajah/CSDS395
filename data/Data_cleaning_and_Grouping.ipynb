{
  "nbformat": 4,
  "nbformat_minor": 0,
  "metadata": {
    "colab": {
      "provenance": []
    },
    "kernelspec": {
      "name": "python3",
      "display_name": "Python 3"
    },
    "language_info": {
      "name": "python"
    }
  },
  "cells": [
    {
      "cell_type": "code",
      "source": [
        "from google.colab import drive\n",
        "import pandas as pd\n",
        "\n",
        "# Mount Google Drive\n",
        "drive.mount('/content/drive')\n",
        "\n",
        "# Correct file path\n",
        "metadata_path = '/content/drive/MyDrive/csds395/HAM10000_metadata.csv'\n",
        "\n",
        "# Load CSV file into a DataFrame\n",
        "df = pd.read_csv('/content/drive/MyDrive/csds395/HAM10000_metadata.csv')\n",
        "\n",
        "#display DataFrame information\n",
        "df.info()\n",
        "df.duplicated()\n",
        "df.drop_duplicates()\n",
        "cat_col = [col for col in df.columns if df[col].dtype == 'object']\n",
        "print('Categorical Columns : ', cat_col)\n",
        "num_col = [col for col in df.columns if df[col].dtype != 'object']\n",
        "print('Numerical Columns : ', num_col)\n",
        "print('Unique Cat Columns : ', df[cat_col].nunique())\n",
        "print('Unique Num Columns : ', df[num_col].nunique())\n",
        "df_cleaned = df.dropna(subset=['age'])\n",
        "print(df_cleaned)\n"
      ],
      "metadata": {
        "colab": {
          "base_uri": "https://localhost:8080/"
        },
        "id": "w759l__vedaG",
        "outputId": "0d246304-8708-4bff-88a5-a3d7829c15ab"
      },
      "execution_count": 1,
      "outputs": [
        {
          "output_type": "stream",
          "name": "stdout",
          "text": [
            "Mounted at /content/drive\n",
            "<class 'pandas.core.frame.DataFrame'>\n",
            "RangeIndex: 10015 entries, 0 to 10014\n",
            "Data columns (total 7 columns):\n",
            " #   Column        Non-Null Count  Dtype  \n",
            "---  ------        --------------  -----  \n",
            " 0   lesion_id     10015 non-null  object \n",
            " 1   image_id      10015 non-null  object \n",
            " 2   dx            10015 non-null  object \n",
            " 3   dx_type       10015 non-null  object \n",
            " 4   age           9958 non-null   float64\n",
            " 5   sex           10015 non-null  object \n",
            " 6   localization  10015 non-null  object \n",
            "dtypes: float64(1), object(6)\n",
            "memory usage: 547.8+ KB\n",
            "Categorical Columns :  ['lesion_id', 'image_id', 'dx', 'dx_type', 'sex', 'localization']\n",
            "Numerical Columns :  ['age']\n",
            "Unique Cat Columns :  lesion_id        7470\n",
            "image_id        10015\n",
            "dx                  7\n",
            "dx_type             4\n",
            "sex                 3\n",
            "localization       15\n",
            "dtype: int64\n",
            "Unique Num Columns :  age    18\n",
            "dtype: int64\n",
            "         lesion_id      image_id     dx dx_type   age     sex localization\n",
            "0      HAM_0000118  ISIC_0027419    bkl   histo  80.0    male        scalp\n",
            "1      HAM_0000118  ISIC_0025030    bkl   histo  80.0    male        scalp\n",
            "2      HAM_0002730  ISIC_0026769    bkl   histo  80.0    male        scalp\n",
            "3      HAM_0002730  ISIC_0025661    bkl   histo  80.0    male        scalp\n",
            "4      HAM_0001466  ISIC_0031633    bkl   histo  75.0    male          ear\n",
            "...            ...           ...    ...     ...   ...     ...          ...\n",
            "10010  HAM_0002867  ISIC_0033084  akiec   histo  40.0    male      abdomen\n",
            "10011  HAM_0002867  ISIC_0033550  akiec   histo  40.0    male      abdomen\n",
            "10012  HAM_0002867  ISIC_0033536  akiec   histo  40.0    male      abdomen\n",
            "10013  HAM_0000239  ISIC_0032854  akiec   histo  80.0    male         face\n",
            "10014  HAM_0003521  ISIC_0032258    mel   histo  70.0  female         back\n",
            "\n",
            "[9958 rows x 7 columns]\n"
          ]
        }
      ]
    },
    {
      "cell_type": "code",
      "execution_count": 2,
      "metadata": {
        "colab": {
          "base_uri": "https://localhost:8080/"
        },
        "id": "m6u4j5TceVNe",
        "outputId": "fd877853-d7b4-45cc-fcd3-609368d58d34"
      },
      "outputs": [
        {
          "output_type": "stream",
          "name": "stdout",
          "text": [
            "Requirement already satisfied: pandas in /usr/local/lib/python3.11/dist-packages (2.2.2)\n",
            "Requirement already satisfied: numpy in /usr/local/lib/python3.11/dist-packages (1.26.4)\n",
            "Requirement already satisfied: scikit-learn in /usr/local/lib/python3.11/dist-packages (1.6.1)\n",
            "Requirement already satisfied: matplotlib in /usr/local/lib/python3.11/dist-packages (3.10.0)\n",
            "Requirement already satisfied: python-dateutil>=2.8.2 in /usr/local/lib/python3.11/dist-packages (from pandas) (2.8.2)\n",
            "Requirement already satisfied: pytz>=2020.1 in /usr/local/lib/python3.11/dist-packages (from pandas) (2025.1)\n",
            "Requirement already satisfied: tzdata>=2022.7 in /usr/local/lib/python3.11/dist-packages (from pandas) (2025.1)\n",
            "Requirement already satisfied: scipy>=1.6.0 in /usr/local/lib/python3.11/dist-packages (from scikit-learn) (1.13.1)\n",
            "Requirement already satisfied: joblib>=1.2.0 in /usr/local/lib/python3.11/dist-packages (from scikit-learn) (1.4.2)\n",
            "Requirement already satisfied: threadpoolctl>=3.1.0 in /usr/local/lib/python3.11/dist-packages (from scikit-learn) (3.5.0)\n",
            "Requirement already satisfied: contourpy>=1.0.1 in /usr/local/lib/python3.11/dist-packages (from matplotlib) (1.3.1)\n",
            "Requirement already satisfied: cycler>=0.10 in /usr/local/lib/python3.11/dist-packages (from matplotlib) (0.12.1)\n",
            "Requirement already satisfied: fonttools>=4.22.0 in /usr/local/lib/python3.11/dist-packages (from matplotlib) (4.56.0)\n",
            "Requirement already satisfied: kiwisolver>=1.3.1 in /usr/local/lib/python3.11/dist-packages (from matplotlib) (1.4.8)\n",
            "Requirement already satisfied: packaging>=20.0 in /usr/local/lib/python3.11/dist-packages (from matplotlib) (24.2)\n",
            "Requirement already satisfied: pillow>=8 in /usr/local/lib/python3.11/dist-packages (from matplotlib) (11.1.0)\n",
            "Requirement already satisfied: pyparsing>=2.3.1 in /usr/local/lib/python3.11/dist-packages (from matplotlib) (3.2.1)\n",
            "Requirement already satisfied: six>=1.5 in /usr/local/lib/python3.11/dist-packages (from python-dateutil>=2.8.2->pandas) (1.17.0)\n"
          ]
        }
      ],
      "source": [
        "# Install any missing dependencies\n",
        "!pip install pandas numpy scikit-learn matplotlib\n",
        "\n",
        "# Import necessary libraries 1234\n",
        "import os\n",
        "import pandas as pd\n",
        "import numpy as np\n",
        "from sklearn.model_selection import train_test_split\n",
        "import shutil\n",
        "from collections import Counter\n"
      ]
    },
    {
      "cell_type": "code",
      "source": [
        "# Analyze the distribution of each skin condition\n",
        "condition_counts = df['dx'].value_counts()\n",
        "print(\"Class distribution:\\n\", condition_counts)\n",
        "\n",
        "# Visualize the distribution\n",
        "import matplotlib.pyplot as plt\n",
        "\n",
        "condition_counts.plot(kind='bar', title='Distribution of Skin Conditions')\n",
        "plt.xlabel('Skin Condition (dx)')\n",
        "plt.ylabel('Number of Images')\n",
        "plt.show()\n"
      ],
      "metadata": {
        "colab": {
          "base_uri": "https://localhost:8080/",
          "height": 668
        },
        "id": "bul-D6sfji-C",
        "outputId": "34c2fe20-6264-447c-ee36-8a40d6a0aaa2"
      },
      "execution_count": 3,
      "outputs": [
        {
          "output_type": "stream",
          "name": "stdout",
          "text": [
            "Class distribution:\n",
            " dx\n",
            "nv       6705\n",
            "mel      1113\n",
            "bkl      1099\n",
            "bcc       514\n",
            "akiec     327\n",
            "vasc      142\n",
            "df        115\n",
            "Name: count, dtype: int64\n"
          ]
        },
        {
          "output_type": "display_data",
          "data": {
            "text/plain": [
              "<Figure size 640x480 with 1 Axes>"
            ],
            "image/png": "[encoded data removed]"
          },
          "metadata": {}
        }
      ]
    },
    {
      "cell_type": "code",
      "source": [
        "from sklearn.model_selection import train_test_split\n",
        "\n",
        "group12, group3 = train_test_split(\n",
        "    df,\n",
        "    test_size=1/3,          # 1/3 of the entire dataset\n",
        "    stratify=df['dx'],      # keep dx distribution balanced\n",
        "    random_state=42\n",
        ")\n",
        "\n",
        "group1, group2 = train_test_split(\n",
        "    group12,\n",
        "    test_size=0.5,          # half of the remaining => 1/3 each\n",
        "    stratify=group12['dx'],\n",
        "    random_state=42\n",
        ")\n",
        "\n",
        "print(\"\\nSizes of each group:\")\n",
        "print(\"group1:\", len(group1))\n",
        "print(\"group2:\", len(group2))\n",
        "print(\"group3:\", len(group3))\n",
        "\n"
      ],
      "metadata": {
        "colab": {
          "base_uri": "https://localhost:8080/"
        },
        "id": "yjZz6qJY0pUx",
        "outputId": "cd71b40b-1fc0-49b4-e03b-d4ad27c53cfe"
      },
      "execution_count": 4,
      "outputs": [
        {
          "output_type": "stream",
          "name": "stdout",
          "text": [
            "\n",
            "Sizes of each group:\n",
            "group1: 3338\n",
            "group2: 3338\n",
            "group3: 3339\n"
          ]
        }
      ]
    },
    {
      "cell_type": "code",
      "source": [
        "\n",
        "\n",
        "# 1. Check distribution of 'dx' in each group\n",
        "print(\"\\n-- Class distribution in each group --\")\n",
        "print(\"Group1:\\n\", group1['dx'].value_counts())\n",
        "print(\"\\nGroup2:\\n\", group2['dx'].value_counts())\n",
        "print(\"\\nGroup3:\\n\", group3['dx'].value_counts())\n"
      ],
      "metadata": {
        "colab": {
          "base_uri": "https://localhost:8080/"
        },
        "id": "tLBCxqod1-xl",
        "outputId": "bea99143-efe8-4fe0-9e55-6cfa671335e1"
      },
      "execution_count": 5,
      "outputs": [
        {
          "output_type": "stream",
          "name": "stdout",
          "text": [
            "\n",
            "-- Class distribution in each group --\n",
            "Group1:\n",
            " dx\n",
            "nv       2234\n",
            "mel       371\n",
            "bkl       366\n",
            "bcc       171\n",
            "akiec     109\n",
            "vasc       48\n",
            "df         39\n",
            "Name: count, dtype: int64\n",
            "\n",
            "Group2:\n",
            " dx\n",
            "nv       2235\n",
            "mel       371\n",
            "bkl       366\n",
            "bcc       172\n",
            "akiec     109\n",
            "vasc       47\n",
            "df         38\n",
            "Name: count, dtype: int64\n",
            "\n",
            "Group3:\n",
            " dx\n",
            "nv       2236\n",
            "mel       371\n",
            "bkl       367\n",
            "bcc       171\n",
            "akiec     109\n",
            "vasc       47\n",
            "df         38\n",
            "Name: count, dtype: int64\n"
          ]
        }
      ]
    },
    {
      "cell_type": "code",
      "source": [
        "# 2. Save each group to its own CSV file\n",
        "group1.to_csv(\"group1_metadata.csv\", index=False)\n",
        "group2.to_csv(\"group2_metadata.csv\", index=False)\n",
        "group3.to_csv(\"group3_metadata.csv\", index=False)\n"
      ],
      "metadata": {
        "id": "Y-mJp1AT2Zcn"
      },
      "execution_count": 6,
      "outputs": []
    },
    {
      "cell_type": "code",
      "source": [
        "# 3. Create output folders for each group\n",
        "import os\n",
        "import shutil\n",
        "\n",
        "original_image_dir = \"/content/drive/MyDrive/csds395/images\"\n",
        "output_dir = \"/content/drive/MyDrive/csds395/output\"\n",
        "\n",
        "# Make sure subfolders exist\n",
        "os.makedirs(os.path.join(output_dir, \"group1\"), exist_ok=True)\n",
        "os.makedirs(os.path.join(output_dir, \"group2\"), exist_ok=True)\n",
        "os.makedirs(os.path.join(output_dir, \"group3\"), exist_ok=True)\n",
        "\n",
        "# Read the CSV file into a DataFrame\n",
        "df = pd.read_csv(\"group1_metadata.csv\")\n",
        "df = pd.read_csv(\"group2_metadata.csv\")\n",
        "df = pd.read_csv(\"group3_metadata.csv\")\n",
        "\n",
        "# Save the DataFrame to the new path\n",
        "df.to_csv(\"/content/drive/MyDrive/csds395/output/group1/group1_metadata.csv\", index=False)  # index=False to avoid saving row numbers\n",
        "df.to_csv(\"/content/drive/MyDrive/csds395/output/group2/group2_metadata.csv\", index=False)\n",
        "df.to_csv(\"/content/drive/MyDrive/csds395/output/group3/group3_metadata.csv\", index=False)\n",
        "\n",
        "print(\"File saved to /content/drive/MyDrive/csds395/output/group1/group1_metadata.csv\")\n",
        "print('File saved to /content/drive/MyDrive/csds395/output/group2/group2_metadata.csv')\n",
        "print('File saved to /content/drive/MyDrive/csds395/output/group3/group3_metadata.csv')"
      ],
      "metadata": {
        "id": "ZL3jA3du2hiJ",
        "colab": {
          "base_uri": "https://localhost:8080/"
        },
        "outputId": "c4571f73-7cb2-424f-9736-a46e702253ad"
      },
      "execution_count": 18,
      "outputs": [
        {
          "output_type": "stream",
          "name": "stdout",
          "text": [
            "File saved to /content/drive/MyDrive/csds395/output/group1/group1_metadata.csv\n",
            "File saved to /content/drive/MyDrive/csds395/output/group2/group2_metadata.csv\n",
            "File saved to /content/drive/MyDrive/csds395/output/group3/group3_metadata.csv\n"
          ]
        }
      ]
    },
    {
      "cell_type": "code",
      "source": [
        "\n"
      ],
      "metadata": {
        "id": "LhPI5Fhg2sgc"
      },
      "execution_count": null,
      "outputs": []
    }
  ]
}